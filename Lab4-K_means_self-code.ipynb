{
 "cells": [
  {
   "cell_type": "markdown",
   "metadata": {},
   "source": [
    "### K-means classifier self-code with K=specific value"
   ]
  },
  {
   "cell_type": "markdown",
   "metadata": {},
   "source": [
    "#### Note: if you want to check for different K-means, you need to put the whole code under a for loop! Not the best choice in jupyter notebooks since not able to partial checks of the code"
   ]
  },
  {
   "cell_type": "code",
   "execution_count": 1,
   "metadata": {},
   "outputs": [],
   "source": [
    "import sklearn.datasets as data\n",
    "import matplotlib.pyplot as plt\n",
    "import numpy as np\n",
    "import random\n",
    "\n",
    "DEBUGGING = False\n",
    "PLOTTING = False # Don't change unless carefully modified some fields\n",
    "# define markers for up to 10 clusters\n",
    "CLUSTER_MARKERS = [ 'bo', 'rv', 'c^', 'm<', 'y>', 'ks', 'bp', 'r*', 'cD', 'mP' ]"
   ]
  },
  {
   "cell_type": "code",
   "execution_count": 3,
   "metadata": {
    "scrolled": true
   },
   "outputs": [
    {
     "data": {
      "image/png": "[encoded data removed]",
      "text/plain": [
       "<Figure size 432x288 with 1 Axes>"
      ]
     },
     "metadata": {
      "needs_background": "light"
     },
     "output_type": "display_data"
    }
   ],
   "source": [
    "#-generate random data for clustering\n",
    "STD=2\n",
    "X, clusters = data.make_blobs( n_samples=1000, n_features=2, cluster_std=STD, random_state=12121 )\n",
    "# set number of instances\n",
    "M = len( X )\n",
    "minX0 = np.min( X[:,0] )\n",
    "maxX0 = np.max( X[:,0] )\n",
    "minX1 = np.min( X[:,1] )\n",
    "maxX1 = np.max( X[:,1] )\n",
    "\n",
    "# plot the above data with differenet std's\n",
    "plt.figure()\n",
    "plt.plot(X[:,0], X[:,1], 'b.', markersize=5)\n",
    "plt.xlim((minX0,maxX0))\n",
    "plt.ylim((minX1,maxX1))\n",
    "plt.title('# of samples=1000, '+'cluster_std='+str(STD))\n",
    "plt.plot()\n",
    "# plt.savefig('myfig.png') # save figures for different std's\n",
    "plt.show()"
   ]
  },
  {
   "cell_type": "code",
   "execution_count": 4,
   "metadata": {},
   "outputs": [
    {
     "name": "stdout",
     "output_type": "stream",
     "text": [
      "initial cluster centres: \n",
      "0=(1.18217559,-4.44628971)\n",
      "1=(6.84466177,-12.21249069)\n"
     ]
    }
   ],
   "source": [
    "K=2\n",
    "#-initialise clusters by finding random points for K cluster centres,\n",
    "# using the minimum and maximum values in the data set\n",
    "centres = np.zeros(( K, 2 ))\n",
    "for i in range( K ):\n",
    "    centres[i,0] = random.uniform( minX0, maxX0 )\n",
    "    centres[i,1] = random.uniform( minX1, maxX1 )\n",
    "if not DEBUGGING:\n",
    "    print ('initial cluster centres: ')\n",
    "    for i in range( K ):\n",
    "        print ('{}=({:.8f},{:.8f})'.format( i, centres[i,0], centres[i,1] ))     "
   ]
  },
  {
   "cell_type": "code",
   "execution_count": 5,
   "metadata": {},
   "outputs": [
    {
     "name": "stdout",
     "output_type": "stream",
     "text": [
      "cluster 0, size=700\n",
      "cluster 1, size=300\n",
      "cluster 0, size=1400\n",
      "cluster 1, size=600\n"
     ]
    }
   ],
   "source": [
    "#-compute distance from each point in the data set to each cluster\n",
    "# center, using the Euclidean distance\n",
    "dist    = np.zeros(( M, K )) # for each instance, distance to each cluster centre\n",
    "labels  = np.zeros( M, dtype=int ) # for each instance, label of cluster with closest centre\n",
    "members = [[] for i in range( K )] # lists of members of each cluster\n",
    "converged = False\n",
    "iters = 0\n",
    "while ( not converged ):\n",
    "    if DEBUGGING:\n",
    "        print('iteration: ', iters)\n",
    "    converged = True\n",
    "    for j in range( M ):\n",
    "        if DEBUGGING:\n",
    "            print ('distances from (%.2f,%.2f): ' % ( X[j,0], X[j,1] ))\n",
    "        for i in range( K ):\n",
    "            dist[j,i] = np.sqrt( np.square( X[j,0]-centres[i,0] ) + np.square( X[j,1]-centres[i,1] ))\n",
    "            if DEBUGGING:\n",
    "                print ('( %d, %.4f )' % ( i, dist[j,i] ))\n",
    "        this_cluster = np.argmin( dist[j,:] )\n",
    "        if ( labels[j] != this_cluster ):\n",
    "            converged = False\n",
    "        labels[j] = this_cluster    # The resulting labels\n",
    "        members[this_cluster].append( j )\n",
    "    #-plot clusters / Don't plot unless carefully modified the code\n",
    "    if PLOTTING:\n",
    "        plt.figure()\n",
    "        for j in range( 2 ):\n",
    "            plt.plot( X[j,0], X[j,1], CLUSTER_MARKERS[labels[j]] )\n",
    "        plt.xlabel( 'X[0]' )\n",
    "        plt.ylabel( 'X[1]' )\n",
    "        plt.show()\n",
    "    for i in range(K):\n",
    "        print ('cluster %d, size=%d' % ( i, len( members[i] )))"
   ]
  },
  {
   "cell_type": "code",
   "execution_count": 6,
   "metadata": {},
   "outputs": [
    {
     "data": {
      "text/plain": [
       "array([    0.        ,     0.        , 70372.99601044,     0.        ,\n",
       "           0.        ,     0.        ,     0.        ,     0.        ,\n",
       "           0.        ,     0.        ])"
      ]
     },
     "execution_count": 6,
     "metadata": {},
     "output_type": "execute_result"
    }
   ],
   "source": [
    "#-compute the within-cluster score\n",
    "WC = np.zeros(10)\n",
    "within = np.zeros(( K ))\n",
    "for i in range( K ): # loop through all clusters\n",
    "    within[i] = 0.0\n",
    "    for j in members[i]: # loop through members of this cluster\n",
    "        # tally the distance to this cluster centre from each of its members\n",
    "        within[i] += ( np.square( X[j,0]-centres[i,0] ) + np.square( X[j,1]-centres[i,1] ))\n",
    "WC[K] = np.sum( within )\n",
    "WC"
   ]
  },
  {
   "cell_type": "code",
   "execution_count": 7,
   "metadata": {},
   "outputs": [
    {
     "data": {
      "text/plain": [
       "array([ 0.        ,  0.        , 92.37762745,  0.        ,  0.        ,\n",
       "        0.        ,  0.        ,  0.        ,  0.        ,  0.        ])"
      ]
     },
     "execution_count": 7,
     "metadata": {},
     "output_type": "execute_result"
    }
   ],
   "source": [
    "#-compute the between-cluster score\n",
    "BC = np.zeros(10)\n",
    "between = np.zeros(( K ))\n",
    "for i in range( K ): # loop through all clusters\n",
    "    between[i] = 0.0\n",
    "    for l in range( i+1, K ): # loop through remaining clusters\n",
    "        # tally the distance from this cluster centre to the centres of the remaining clusters\n",
    "        between[i] += ( np.square( centres[i,0]-centres[l,0] ) + np.square( centres[i,1]-centres[l,1] ))\n",
    "BC[K] = np.sum( between )\n",
    "BC"
   ]
  },
  {
   "cell_type": "code",
   "execution_count": 8,
   "metadata": {},
   "outputs": [
    {
     "name": "stdout",
     "output_type": "stream",
     "text": [
      "K=2  WC=70372.9960  BC=92.3776  score=0.0013\n"
     ]
    }
   ],
   "source": [
    "#-compute overall clustering score\n",
    "score = BC[K] / WC[K]\n",
    "\n",
    "#-print results for this value of K\n",
    "print ('K=%d  WC=%.4f  BC=%.4f  score=%.4f' % ( K, WC[K], BC[K], score ))\n"
   ]
  },
  {
   "cell_type": "code",
   "execution_count": 56,
   "metadata": {},
   "outputs": [
    {
     "data": {
      "image/png": "[encoded data removed]",
      "text/plain": [
       "<Figure size 432x288 with 1 Axes>"
      ]
     },
     "metadata": {
      "needs_background": "light"
     },
     "output_type": "display_data"
    }
   ],
   "source": [
    "#-plot overall scores\n",
    "plt.figure()\n",
    "plt.plot( BC, linewidth=2, label='Between Cluster' )\n",
    "plt.plot( WC, linewidth=2, label='Within Cluster' )\n",
    "plt.xlabel( 'K' )\n",
    "plt.legend( loc='best' )\n",
    "plt.show()"
   ]
  },
  {
   "cell_type": "code",
   "execution_count": null,
   "metadata": {},
   "outputs": [],
   "source": []
  },
  {
   "cell_type": "code",
   "execution_count": null,
   "metadata": {},
   "outputs": [],
   "source": []
  }
 ],
 "metadata": {
  "kernelspec": {
   "display_name": "Python 3",
   "language": "python",
   "name": "python3"
  },
  "language_info": {
   "codemirror_mode": {
    "name": "ipython",
    "version": 3
   },
   "file_extension": ".py",
   "mimetype": "text/x-python",
   "name": "python",
   "nbconvert_exporter": "python",
   "pygments_lexer": "ipython3",
   "version": "3.7.6"
  }
 },
 "nbformat": 4,
 "nbformat_minor": 4
}
