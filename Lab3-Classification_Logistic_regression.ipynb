{
 "cells": [
  {
   "cell_type": "markdown",
   "metadata": {},
   "source": [
    "# Logistic Regression Classifier"
   ]
  },
  {
   "cell_type": "code",
   "execution_count": 14,
   "metadata": {},
   "outputs": [],
   "source": [
    "import numpy as np\n",
    "import sklearn.datasets as data\n",
    "import sklearn.model_selection as model_select\n",
    "import sklearn.linear_model as linear_model\n",
    "import sklearn.metrics as metrics\n",
    "import sklearn.preprocessing as preprocess\n",
    "import matplotlib.pyplot as plt"
   ]
  },
  {
   "cell_type": "code",
   "execution_count": 15,
   "metadata": {},
   "outputs": [],
   "source": [
    "STEP_SIZE = 0.1\n",
    "#FILENAME_TAG = '01'\n",
    "DEBUGGING = True\n",
    "#PLOT_DIR = '../plots/'"
   ]
  },
  {
   "cell_type": "code",
   "execution_count": 16,
   "metadata": {},
   "outputs": [
    {
     "name": "stdout",
     "output_type": "stream",
     "text": [
      "classes =  ['setosa' 'versicolor' 'virginica']\n",
      "attributes =  ['sepal length (cm)', 'sepal width (cm)', 'petal length (cm)', 'petal width (cm)']\n"
     ]
    }
   ],
   "source": [
    "# load iris data\n",
    "iris = data.load_iris()\n",
    "num_classes = len( iris.target_names )\n",
    "if ( DEBUGGING ):\n",
    "    print('classes = ', iris.target_names)\n",
    "    print('attributes = ', iris.feature_names)"
   ]
  },
  {
   "cell_type": "code",
   "execution_count": 18,
   "metadata": {},
   "outputs": [
    {
     "name": "stdout",
     "output_type": "stream",
     "text": [
      "number of training instances = 112\n",
      "number of test instances = 38\n"
     ]
    }
   ],
   "source": [
    "# we'll only look at two dimensions (0th and 1st)\n",
    "# split the data into training and test sets\n",
    "X = iris.data[:,0:2]\n",
    "y = iris.target\n",
    "X_train, X_test, y_train, y_test = model_select.train_test_split( X, y, random_state=0 )\n",
    "M_train = len( X_train )\n",
    "M_test = len( X_test )\n",
    "if ( DEBUGGING ):\n",
    "    print('number of training instances = ' + str( M_train ))\n",
    "    print('number of test instances = ' + str( M_test ))"
   ]
  },
  {
   "cell_type": "code",
   "execution_count": 19,
   "metadata": {},
   "outputs": [],
   "source": [
    "# initialise logistic regression model\n",
    "clf = linear_model.LogisticRegression( solver='lbfgs', multi_class='multinomial' )"
   ]
  },
  {
   "cell_type": "code",
   "execution_count": 20,
   "metadata": {},
   "outputs": [
    {
     "data": {
      "text/plain": [
       "LogisticRegression(multi_class='multinomial')"
      ]
     },
     "execution_count": 20,
     "metadata": {},
     "output_type": "execute_result"
    }
   ],
   "source": [
    "# fit model to iris data\n",
    "clf.fit( X_train, y_train )"
   ]
  },
  {
   "cell_type": "markdown",
   "metadata": {},
   "source": [
    "### How good is your model?"
   ]
  },
  {
   "cell_type": "code",
   "execution_count": 23,
   "metadata": {},
   "outputs": [],
   "source": [
    "# Find the decision boundary within a 2D grid space, where the two\n",
    "# dimensions are comprised of the range of values for the two\n",
    "# attributes we consider here. We use 2 attributes so we can visualise\n",
    "# easily, but we could use more than two."
   ]
  },
  {
   "cell_type": "code",
   "execution_count": 24,
   "metadata": {},
   "outputs": [
    {
     "name": "stdout",
     "output_type": "stream",
     "text": [
      "4.2 8.0 1.9 4.5\n"
     ]
    }
   ],
   "source": [
    "# set the limits of the 2D grid space, to make sure that all\n",
    "# the points in the data set are fully visible in the plot\n",
    "x0_min = np.min( X[:,0] ) - STEP_SIZE\n",
    "x0_max = np.max( X[:,0] ) + STEP_SIZE\n",
    "x1_min = np.min( X[:,1] ) - STEP_SIZE\n",
    "x1_max = np.max( X[:,1] ) + STEP_SIZE\n",
    "if ( DEBUGGING ):\n",
    "    print(x0_min, x0_max, x1_min, x1_max)"
   ]
  },
  {
   "cell_type": "code",
   "execution_count": 25,
   "metadata": {},
   "outputs": [
    {
     "name": "stdout",
     "output_type": "stream",
     "text": [
      "x0 range =  [4.2 4.3 4.4 4.5 4.6 4.7 4.8 4.9 5.  5.1 5.2 5.3 5.4 5.5 5.6 5.7 5.8 5.9\n",
      " 6.  6.1 6.2 6.3 6.4 6.5 6.6 6.7 6.8 6.9 7.  7.1 7.2 7.3 7.4 7.5 7.6 7.7\n",
      " 7.8 7.9]\n",
      "x0_range length =  38\n",
      "x1 range =  [1.9 2.  2.1 2.2 2.3 2.4 2.5 2.6 2.7 2.8 2.9 3.  3.1 3.2 3.3 3.4 3.5 3.6\n",
      " 3.7 3.8 3.9 4.  4.1 4.2 4.3 4.4]\n",
      "x1_range length =  26\n"
     ]
    }
   ],
   "source": [
    "# initialise two arrays, one for each attribute, that contains\n",
    "# hypothetical values at evenly spaced intervals (STEP_SIZE),\n",
    "# beginning with the minimum and going up to the maximum value for\n",
    "# each (e.g., from x0_min to x0_max)\n",
    "x0_range = np.arange( x0_min, x0_max, STEP_SIZE )\n",
    "x0_len = len( x0_range ) # save number of items in the x0_range array\n",
    "x1_range = np.arange( x1_min, x1_max, STEP_SIZE )\n",
    "x1_len = len( x1_range ) # save number of items in the x1_range array\n",
    "if ( DEBUGGING ):\n",
    "    print('x0 range = ', x0_range)\n",
    "    print('x0_range length = ', x0_len)\n",
    "    print('x1 range = ', x1_range)\n",
    "    print('x1_range length = ', x1_len)"
   ]
  },
  {
   "cell_type": "code",
   "execution_count": 26,
   "metadata": {},
   "outputs": [
    {
     "name": "stdout",
     "output_type": "stream",
     "text": [
      "X_pairs shape =  (988, 2)\n"
     ]
    }
   ],
   "source": [
    "# now we use our classifier to predict the class for all the possible\n",
    "# combinations of values over the range of the two attributes we are\n",
    "# using to test the classifier. in order to do this, we need to\n",
    "# initialise an array that contains pairs of possible attribute\n",
    "# values. these get sent to the \"predict()\" function of the\n",
    "# classifier, which will return a parallel array of predicted classes\n",
    "# for each attribute pair.\n",
    "X_pairs = np.zeros(( x0_len * x1_len, 2 ))\n",
    "if ( DEBUGGING ):\n",
    "    print('X_pairs shape = ', np.shape( X_pairs ))\n",
    "i = 0\n",
    "for i1 in range( x1_len ):\n",
    "    for i0 in range( x0_len ):\n",
    "        X_pairs[i] = np.array( [ x0_range[i0], x1_range[i1] ] )\n",
    "        i += 1\n",
    "y_hat_pairs = clf.predict( X_pairs )"
   ]
  },
  {
   "cell_type": "code",
   "execution_count": 27,
   "metadata": {},
   "outputs": [],
   "source": [
    "#-now let's compute some scores"
   ]
  },
  {
   "cell_type": "code",
   "execution_count": 28,
   "metadata": {},
   "outputs": [
    {
     "name": "stdout",
     "output_type": "stream",
     "text": [
      "training score =  0.8392857142857143\n",
      "test score =  0.7894736842105263\n",
      "mesh score =  1.0\n"
     ]
    }
   ],
   "source": [
    "# first, with the training set\n",
    "print('training score = ', clf.score( X_train, y_train ))\n",
    "print('test score = ', clf.score( X_test, y_test ))\n",
    "print('mesh score = ', clf.score( X_pairs, y_hat_pairs ))\n",
    "y_hat = clf.predict( X_test )"
   ]
  },
  {
   "cell_type": "code",
   "execution_count": 29,
   "metadata": {},
   "outputs": [
    {
     "name": "stdout",
     "output_type": "stream",
     "text": [
      "accuracy score on test set =  0.7894736842105263\n"
     ]
    }
   ],
   "source": [
    "# compute accuracy score. note that we cannot compute this score for\n",
    "# the y_hat_pairs data, because we do not have a \"ground truth\" like\n",
    "# we do with the test set, i.e., \"y_test\".\n",
    "print('accuracy score on test set = ', metrics.accuracy_score( y_test, y_hat ))"
   ]
  },
  {
   "cell_type": "code",
   "execution_count": 30,
   "metadata": {},
   "outputs": [
    {
     "name": "stdout",
     "output_type": "stream",
     "text": [
      "confusion matrix =\n",
      "\t predicted-->\n",
      "actual:setosaversicolorvirginica\n",
      "1300\n",
      "0115\n",
      "036\n",
      "\n"
     ]
    }
   ],
   "source": [
    "# compute the confusion matrix\n",
    "cm = metrics.confusion_matrix( y_test, y_hat )\n",
    "print('confusion matrix =')\n",
    "# print '%10s\\t%s' % ( ' ','predicted-->' )\n",
    "print('\\t predicted-->' )\n",
    "# print '%10s\\t' % ( 'actual:' ),\n",
    "print( 'actual:', end='' )\n",
    "for i in range( len( iris.target_names )):\n",
    "    # print '%10s\\t' % ( iris.target_names[i] ),\n",
    "    print(iris.target_names[i], end='')\n",
    "# print '\\n',\n",
    "print()\n",
    "for i in range( len( iris.target_names )):\n",
    "    # print '%10s\\t' % ( iris.target_names[i] ),\n",
    "    for j in range( len( iris.target_names )):\n",
    "        # print '%10s\\t' % ( cm[i,j] ),\n",
    "        print( cm[i,j], end='' ),\n",
    "    # print '\\n',\n",
    "    print()\n",
    "# print '\\n',\n",
    "print()"
   ]
  },
  {
   "cell_type": "code",
   "execution_count": 31,
   "metadata": {},
   "outputs": [
    {
     "name": "stdout",
     "output_type": "stream",
     "text": [
      "precision score = tp / (tp + fp) =\n",
      "\t setosa = 1.0\n",
      "\t versicolor = 0.7857142857142857\n",
      "\t virginica = 0.5454545454545454\n"
     ]
    }
   ],
   "source": [
    "# compute precision, recall and f1 scores\n",
    "print('precision score = tp / (tp + fp) =')\n",
    "precision = metrics.precision_score( y_test, y_hat, average=None )\n",
    "for i in range( len( iris.target_names )):\n",
    "    # print '\\t%s = %f' % ( iris.target_names[i], precision[i] )\n",
    "    print('\\t {} = {}'.format( iris.target_names[i], precision[i] ))"
   ]
  },
  {
   "cell_type": "code",
   "execution_count": 32,
   "metadata": {},
   "outputs": [
    {
     "name": "stdout",
     "output_type": "stream",
     "text": [
      "recall score = tp / (tp + fn) =\n",
      "\t setosa = 1.0\n",
      "\t versicolor = 0.6875\n",
      "\t virginica = 0.6666666666666666\n"
     ]
    }
   ],
   "source": [
    "print('recall score = tp / (tp + fn) =')\n",
    "recall = metrics.recall_score( y_test, y_hat, average=None )\n",
    "for i in range( len( iris.target_names )):\n",
    "    # print '\\t%s = %f' % ( iris.target_names[i], recall[i] )\n",
    "    print('\\t {} = {}'.format( iris.target_names[i], recall[i] ))"
   ]
  },
  {
   "cell_type": "code",
   "execution_count": 33,
   "metadata": {},
   "outputs": [
    {
     "name": "stdout",
     "output_type": "stream",
     "text": [
      "f1 score = 2 * (precision * recall) / (precision + recall) =\n",
      "\t setosa = 1.0\n",
      "\t versicolor = 0.7333333333333334\n",
      "\t virginica = 0.6\n"
     ]
    }
   ],
   "source": [
    "print('f1 score = 2 * (precision * recall) / (precision + recall) =')\n",
    "f1 = metrics.f1_score( y_test, y_hat, average=None )\n",
    "for i in range( len( iris.target_names )):\n",
    "    # print '\\t%s = %f' % ( iris.target_names[i], f1[i] )\n",
    "    print('\\t {} = {}'.format( iris.target_names[i], f1[i] ))"
   ]
  },
  {
   "cell_type": "code",
   "execution_count": 34,
   "metadata": {},
   "outputs": [
    {
     "name": "stdout",
     "output_type": "stream",
     "text": [
      "confidence scores shape = (988, 3)\n",
      "[[ 1.13241267  1.30272912 -2.43514179]\n",
      " [ 0.88002928  1.35077619 -2.23080547]\n",
      " [ 0.62764589  1.39882326 -2.02646915]\n",
      " ...\n",
      " [-2.59956554 -0.46253337  3.06209891]\n",
      " [-2.85194893 -0.4144863   3.26643523]\n",
      " [-3.10433232 -0.36643923  3.47077156]]\n",
      "y binary shape =  (988, 3)\n"
     ]
    }
   ],
   "source": [
    "# we can compute a \"decision function\" which gives \"confidence scores\"\n",
    "# corresponding to the samples. this is the signed distance from each\n",
    "# value in X to the decision boundary. we can find the furthest from the boundary\n",
    "conf_scores = clf.decision_function( X_pairs )\n",
    "if ( DEBUGGING ):\n",
    "    print('confidence scores shape =', np.shape( conf_scores ))\n",
    "    print(conf_scores)\n",
    "# compute ROC curve for each class\n",
    "# binarize the output, since we have a multi-class data set\n",
    "y_binary = preprocess.label_binarize( y_hat_pairs, classes=sorted( set( y )) )\n",
    "if ( DEBUGGING ):\n",
    "    print('y binary shape = ',np.shape( y_binary ))"
   ]
  },
  {
   "cell_type": "code",
   "execution_count": 35,
   "metadata": {},
   "outputs": [],
   "source": [
    "# compute ROC curve\n",
    "fpr = dict()\n",
    "tpr = dict()\n",
    "for c in range( num_classes ):\n",
    "    (fpr[c], tpr[c], tmp) = metrics.roc_curve( y_binary[:,c], conf_scores[:,c] )"
   ]
  },
  {
   "cell_type": "code",
   "execution_count": 39,
   "metadata": {},
   "outputs": [
    {
     "data": {
      "image/png": "[encoded data removed]",
      "text/plain": [
       "<Figure size 432x288 with 1 Axes>"
      ]
     },
     "metadata": {
      "needs_background": "light"
     },
     "output_type": "display_data"
    },
    {
     "data": {
      "text/plain": [
       "<Figure size 432x288 with 0 Axes>"
      ]
     },
     "metadata": {},
     "output_type": "display_data"
    }
   ],
   "source": [
    "# plot ROC curve\n",
    "plt.figure()\n",
    "colours = [ ( 1, 0, 0, 1 ), ( 0, 1, 0, 0.7 ), ( 0, 0, 1, 0.5 ) ]\n",
    "for c in range( num_classes ):\n",
    "    plt.plot( fpr[c], tpr[c], c=colours[c], linewidth=2, label=iris.target_names[c] )\n",
    "plt.legend( loc='lower right' )\n",
    "min = -0.05\n",
    "max = 1.05\n",
    "plt.plot( [min, max], [min, max], color='k', linestyle='--' )\n",
    "plt.xlim( [min, max] )\n",
    "plt.ylim( [min, max] )\n",
    "plt.xlabel( 'false positive (FP) rate' )\n",
    "plt.ylabel( 'true positive (TP) rate' )\n",
    "plt.show()\n",
    "\n",
    "# PLOT the decision boundary\n",
    "plt.figure()\n",
    "plt.set_cmap( 'Blues' )\n"
   ]
  },
  {
   "cell_type": "code",
   "execution_count": 47,
   "metadata": {},
   "outputs": [
    {
     "name": "stdout",
     "output_type": "stream",
     "text": [
      "x0 mesh =  [[4.2 4.3 4.4 4.5 4.6 4.7 4.8 4.9 5.  5.1 5.2 5.3 5.4 5.5 5.6 5.7 5.8 5.9\n",
      "  6.  6.1 6.2 6.3 6.4 6.5 6.6 6.7 6.8 6.9 7.  7.1 7.2 7.3 7.4 7.5 7.6 7.7\n",
      "  7.8 7.9]\n",
      " [4.2 4.3 4.4 4.5 4.6 4.7 4.8 4.9 5.  5.1 5.2 5.3 5.4 5.5 5.6 5.7 5.8 5.9\n",
      "  6.  6.1 6.2 6.3 6.4 6.5 6.6 6.7 6.8 6.9 7.  7.1 7.2 7.3 7.4 7.5 7.6 7.7\n",
      "  7.8 7.9]\n",
      " [4.2 4.3 4.4 4.5 4.6 4.7 4.8 4.9 5.  5.1 5.2 5.3 5.4 5.5 5.6 5.7 5.8 5.9\n",
      "  6.  6.1 6.2 6.3 6.4 6.5 6.6 6.7 6.8 6.9 7.  7.1 7.2 7.3 7.4 7.5 7.6 7.7\n",
      "  7.8 7.9]\n",
      " [4.2 4.3 4.4 4.5 4.6 4.7 4.8 4.9 5.  5.1 5.2 5.3 5.4 5.5 5.6 5.7 5.8 5.9\n",
      "  6.  6.1 6.2 6.3 6.4 6.5 6.6 6.7 6.8 6.9 7.  7.1 7.2 7.3 7.4 7.5 7.6 7.7\n",
      "  7.8 7.9]\n",
      " [4.2 4.3 4.4 4.5 4.6 4.7 4.8 4.9 5.  5.1 5.2 5.3 5.4 5.5 5.6 5.7 5.8 5.9\n",
      "  6.  6.1 6.2 6.3 6.4 6.5 6.6 6.7 6.8 6.9 7.  7.1 7.2 7.3 7.4 7.5 7.6 7.7\n",
      "  7.8 7.9]\n",
      " [4.2 4.3 4.4 4.5 4.6 4.7 4.8 4.9 5.  5.1 5.2 5.3 5.4 5.5 5.6 5.7 5.8 5.9\n",
      "  6.  6.1 6.2 6.3 6.4 6.5 6.6 6.7 6.8 6.9 7.  7.1 7.2 7.3 7.4 7.5 7.6 7.7\n",
      "  7.8 7.9]\n",
      " [4.2 4.3 4.4 4.5 4.6 4.7 4.8 4.9 5.  5.1 5.2 5.3 5.4 5.5 5.6 5.7 5.8 5.9\n",
      "  6.  6.1 6.2 6.3 6.4 6.5 6.6 6.7 6.8 6.9 7.  7.1 7.2 7.3 7.4 7.5 7.6 7.7\n",
      "  7.8 7.9]\n",
      " [4.2 4.3 4.4 4.5 4.6 4.7 4.8 4.9 5.  5.1 5.2 5.3 5.4 5.5 5.6 5.7 5.8 5.9\n",
      "  6.  6.1 6.2 6.3 6.4 6.5 6.6 6.7 6.8 6.9 7.  7.1 7.2 7.3 7.4 7.5 7.6 7.7\n",
      "  7.8 7.9]\n",
      " [4.2 4.3 4.4 4.5 4.6 4.7 4.8 4.9 5.  5.1 5.2 5.3 5.4 5.5 5.6 5.7 5.8 5.9\n",
      "  6.  6.1 6.2 6.3 6.4 6.5 6.6 6.7 6.8 6.9 7.  7.1 7.2 7.3 7.4 7.5 7.6 7.7\n",
      "  7.8 7.9]\n",
      " [4.2 4.3 4.4 4.5 4.6 4.7 4.8 4.9 5.  5.1 5.2 5.3 5.4 5.5 5.6 5.7 5.8 5.9\n",
      "  6.  6.1 6.2 6.3 6.4 6.5 6.6 6.7 6.8 6.9 7.  7.1 7.2 7.3 7.4 7.5 7.6 7.7\n",
      "  7.8 7.9]\n",
      " [4.2 4.3 4.4 4.5 4.6 4.7 4.8 4.9 5.  5.1 5.2 5.3 5.4 5.5 5.6 5.7 5.8 5.9\n",
      "  6.  6.1 6.2 6.3 6.4 6.5 6.6 6.7 6.8 6.9 7.  7.1 7.2 7.3 7.4 7.5 7.6 7.7\n",
      "  7.8 7.9]\n",
      " [4.2 4.3 4.4 4.5 4.6 4.7 4.8 4.9 5.  5.1 5.2 5.3 5.4 5.5 5.6 5.7 5.8 5.9\n",
      "  6.  6.1 6.2 6.3 6.4 6.5 6.6 6.7 6.8 6.9 7.  7.1 7.2 7.3 7.4 7.5 7.6 7.7\n",
      "  7.8 7.9]\n",
      " [4.2 4.3 4.4 4.5 4.6 4.7 4.8 4.9 5.  5.1 5.2 5.3 5.4 5.5 5.6 5.7 5.8 5.9\n",
      "  6.  6.1 6.2 6.3 6.4 6.5 6.6 6.7 6.8 6.9 7.  7.1 7.2 7.3 7.4 7.5 7.6 7.7\n",
      "  7.8 7.9]\n",
      " [4.2 4.3 4.4 4.5 4.6 4.7 4.8 4.9 5.  5.1 5.2 5.3 5.4 5.5 5.6 5.7 5.8 5.9\n",
      "  6.  6.1 6.2 6.3 6.4 6.5 6.6 6.7 6.8 6.9 7.  7.1 7.2 7.3 7.4 7.5 7.6 7.7\n",
      "  7.8 7.9]\n",
      " [4.2 4.3 4.4 4.5 4.6 4.7 4.8 4.9 5.  5.1 5.2 5.3 5.4 5.5 5.6 5.7 5.8 5.9\n",
      "  6.  6.1 6.2 6.3 6.4 6.5 6.6 6.7 6.8 6.9 7.  7.1 7.2 7.3 7.4 7.5 7.6 7.7\n",
      "  7.8 7.9]\n",
      " [4.2 4.3 4.4 4.5 4.6 4.7 4.8 4.9 5.  5.1 5.2 5.3 5.4 5.5 5.6 5.7 5.8 5.9\n",
      "  6.  6.1 6.2 6.3 6.4 6.5 6.6 6.7 6.8 6.9 7.  7.1 7.2 7.3 7.4 7.5 7.6 7.7\n",
      "  7.8 7.9]\n",
      " [4.2 4.3 4.4 4.5 4.6 4.7 4.8 4.9 5.  5.1 5.2 5.3 5.4 5.5 5.6 5.7 5.8 5.9\n",
      "  6.  6.1 6.2 6.3 6.4 6.5 6.6 6.7 6.8 6.9 7.  7.1 7.2 7.3 7.4 7.5 7.6 7.7\n",
      "  7.8 7.9]\n",
      " [4.2 4.3 4.4 4.5 4.6 4.7 4.8 4.9 5.  5.1 5.2 5.3 5.4 5.5 5.6 5.7 5.8 5.9\n",
      "  6.  6.1 6.2 6.3 6.4 6.5 6.6 6.7 6.8 6.9 7.  7.1 7.2 7.3 7.4 7.5 7.6 7.7\n",
      "  7.8 7.9]\n",
      " [4.2 4.3 4.4 4.5 4.6 4.7 4.8 4.9 5.  5.1 5.2 5.3 5.4 5.5 5.6 5.7 5.8 5.9\n",
      "  6.  6.1 6.2 6.3 6.4 6.5 6.6 6.7 6.8 6.9 7.  7.1 7.2 7.3 7.4 7.5 7.6 7.7\n",
      "  7.8 7.9]\n",
      " [4.2 4.3 4.4 4.5 4.6 4.7 4.8 4.9 5.  5.1 5.2 5.3 5.4 5.5 5.6 5.7 5.8 5.9\n",
      "  6.  6.1 6.2 6.3 6.4 6.5 6.6 6.7 6.8 6.9 7.  7.1 7.2 7.3 7.4 7.5 7.6 7.7\n",
      "  7.8 7.9]\n",
      " [4.2 4.3 4.4 4.5 4.6 4.7 4.8 4.9 5.  5.1 5.2 5.3 5.4 5.5 5.6 5.7 5.8 5.9\n",
      "  6.  6.1 6.2 6.3 6.4 6.5 6.6 6.7 6.8 6.9 7.  7.1 7.2 7.3 7.4 7.5 7.6 7.7\n",
      "  7.8 7.9]\n",
      " [4.2 4.3 4.4 4.5 4.6 4.7 4.8 4.9 5.  5.1 5.2 5.3 5.4 5.5 5.6 5.7 5.8 5.9\n",
      "  6.  6.1 6.2 6.3 6.4 6.5 6.6 6.7 6.8 6.9 7.  7.1 7.2 7.3 7.4 7.5 7.6 7.7\n",
      "  7.8 7.9]\n",
      " [4.2 4.3 4.4 4.5 4.6 4.7 4.8 4.9 5.  5.1 5.2 5.3 5.4 5.5 5.6 5.7 5.8 5.9\n",
      "  6.  6.1 6.2 6.3 6.4 6.5 6.6 6.7 6.8 6.9 7.  7.1 7.2 7.3 7.4 7.5 7.6 7.7\n",
      "  7.8 7.9]\n",
      " [4.2 4.3 4.4 4.5 4.6 4.7 4.8 4.9 5.  5.1 5.2 5.3 5.4 5.5 5.6 5.7 5.8 5.9\n",
      "  6.  6.1 6.2 6.3 6.4 6.5 6.6 6.7 6.8 6.9 7.  7.1 7.2 7.3 7.4 7.5 7.6 7.7\n",
      "  7.8 7.9]\n",
      " [4.2 4.3 4.4 4.5 4.6 4.7 4.8 4.9 5.  5.1 5.2 5.3 5.4 5.5 5.6 5.7 5.8 5.9\n",
      "  6.  6.1 6.2 6.3 6.4 6.5 6.6 6.7 6.8 6.9 7.  7.1 7.2 7.3 7.4 7.5 7.6 7.7\n",
      "  7.8 7.9]\n",
      " [4.2 4.3 4.4 4.5 4.6 4.7 4.8 4.9 5.  5.1 5.2 5.3 5.4 5.5 5.6 5.7 5.8 5.9\n",
      "  6.  6.1 6.2 6.3 6.4 6.5 6.6 6.7 6.8 6.9 7.  7.1 7.2 7.3 7.4 7.5 7.6 7.7\n",
      "  7.8 7.9]]\n",
      "x0 mesh shape =  (26, 38)\n",
      "x1 mesh =  [[1.9 1.9 1.9 1.9 1.9 1.9 1.9 1.9 1.9 1.9 1.9 1.9 1.9 1.9 1.9 1.9 1.9 1.9\n",
      "  1.9 1.9 1.9 1.9 1.9 1.9 1.9 1.9 1.9 1.9 1.9 1.9 1.9 1.9 1.9 1.9 1.9 1.9\n",
      "  1.9 1.9]\n",
      " [2.  2.  2.  2.  2.  2.  2.  2.  2.  2.  2.  2.  2.  2.  2.  2.  2.  2.\n",
      "  2.  2.  2.  2.  2.  2.  2.  2.  2.  2.  2.  2.  2.  2.  2.  2.  2.  2.\n",
      "  2.  2. ]\n",
      " [2.1 2.1 2.1 2.1 2.1 2.1 2.1 2.1 2.1 2.1 2.1 2.1 2.1 2.1 2.1 2.1 2.1 2.1\n",
      "  2.1 2.1 2.1 2.1 2.1 2.1 2.1 2.1 2.1 2.1 2.1 2.1 2.1 2.1 2.1 2.1 2.1 2.1\n",
      "  2.1 2.1]\n",
      " [2.2 2.2 2.2 2.2 2.2 2.2 2.2 2.2 2.2 2.2 2.2 2.2 2.2 2.2 2.2 2.2 2.2 2.2\n",
      "  2.2 2.2 2.2 2.2 2.2 2.2 2.2 2.2 2.2 2.2 2.2 2.2 2.2 2.2 2.2 2.2 2.2 2.2\n",
      "  2.2 2.2]\n",
      " [2.3 2.3 2.3 2.3 2.3 2.3 2.3 2.3 2.3 2.3 2.3 2.3 2.3 2.3 2.3 2.3 2.3 2.3\n",
      "  2.3 2.3 2.3 2.3 2.3 2.3 2.3 2.3 2.3 2.3 2.3 2.3 2.3 2.3 2.3 2.3 2.3 2.3\n",
      "  2.3 2.3]\n",
      " [2.4 2.4 2.4 2.4 2.4 2.4 2.4 2.4 2.4 2.4 2.4 2.4 2.4 2.4 2.4 2.4 2.4 2.4\n",
      "  2.4 2.4 2.4 2.4 2.4 2.4 2.4 2.4 2.4 2.4 2.4 2.4 2.4 2.4 2.4 2.4 2.4 2.4\n",
      "  2.4 2.4]\n",
      " [2.5 2.5 2.5 2.5 2.5 2.5 2.5 2.5 2.5 2.5 2.5 2.5 2.5 2.5 2.5 2.5 2.5 2.5\n",
      "  2.5 2.5 2.5 2.5 2.5 2.5 2.5 2.5 2.5 2.5 2.5 2.5 2.5 2.5 2.5 2.5 2.5 2.5\n",
      "  2.5 2.5]\n",
      " [2.6 2.6 2.6 2.6 2.6 2.6 2.6 2.6 2.6 2.6 2.6 2.6 2.6 2.6 2.6 2.6 2.6 2.6\n",
      "  2.6 2.6 2.6 2.6 2.6 2.6 2.6 2.6 2.6 2.6 2.6 2.6 2.6 2.6 2.6 2.6 2.6 2.6\n",
      "  2.6 2.6]\n",
      " [2.7 2.7 2.7 2.7 2.7 2.7 2.7 2.7 2.7 2.7 2.7 2.7 2.7 2.7 2.7 2.7 2.7 2.7\n",
      "  2.7 2.7 2.7 2.7 2.7 2.7 2.7 2.7 2.7 2.7 2.7 2.7 2.7 2.7 2.7 2.7 2.7 2.7\n",
      "  2.7 2.7]\n",
      " [2.8 2.8 2.8 2.8 2.8 2.8 2.8 2.8 2.8 2.8 2.8 2.8 2.8 2.8 2.8 2.8 2.8 2.8\n",
      "  2.8 2.8 2.8 2.8 2.8 2.8 2.8 2.8 2.8 2.8 2.8 2.8 2.8 2.8 2.8 2.8 2.8 2.8\n",
      "  2.8 2.8]\n",
      " [2.9 2.9 2.9 2.9 2.9 2.9 2.9 2.9 2.9 2.9 2.9 2.9 2.9 2.9 2.9 2.9 2.9 2.9\n",
      "  2.9 2.9 2.9 2.9 2.9 2.9 2.9 2.9 2.9 2.9 2.9 2.9 2.9 2.9 2.9 2.9 2.9 2.9\n",
      "  2.9 2.9]\n",
      " [3.  3.  3.  3.  3.  3.  3.  3.  3.  3.  3.  3.  3.  3.  3.  3.  3.  3.\n",
      "  3.  3.  3.  3.  3.  3.  3.  3.  3.  3.  3.  3.  3.  3.  3.  3.  3.  3.\n",
      "  3.  3. ]\n",
      " [3.1 3.1 3.1 3.1 3.1 3.1 3.1 3.1 3.1 3.1 3.1 3.1 3.1 3.1 3.1 3.1 3.1 3.1\n",
      "  3.1 3.1 3.1 3.1 3.1 3.1 3.1 3.1 3.1 3.1 3.1 3.1 3.1 3.1 3.1 3.1 3.1 3.1\n",
      "  3.1 3.1]\n",
      " [3.2 3.2 3.2 3.2 3.2 3.2 3.2 3.2 3.2 3.2 3.2 3.2 3.2 3.2 3.2 3.2 3.2 3.2\n",
      "  3.2 3.2 3.2 3.2 3.2 3.2 3.2 3.2 3.2 3.2 3.2 3.2 3.2 3.2 3.2 3.2 3.2 3.2\n",
      "  3.2 3.2]\n",
      " [3.3 3.3 3.3 3.3 3.3 3.3 3.3 3.3 3.3 3.3 3.3 3.3 3.3 3.3 3.3 3.3 3.3 3.3\n",
      "  3.3 3.3 3.3 3.3 3.3 3.3 3.3 3.3 3.3 3.3 3.3 3.3 3.3 3.3 3.3 3.3 3.3 3.3\n",
      "  3.3 3.3]\n",
      " [3.4 3.4 3.4 3.4 3.4 3.4 3.4 3.4 3.4 3.4 3.4 3.4 3.4 3.4 3.4 3.4 3.4 3.4\n",
      "  3.4 3.4 3.4 3.4 3.4 3.4 3.4 3.4 3.4 3.4 3.4 3.4 3.4 3.4 3.4 3.4 3.4 3.4\n",
      "  3.4 3.4]\n",
      " [3.5 3.5 3.5 3.5 3.5 3.5 3.5 3.5 3.5 3.5 3.5 3.5 3.5 3.5 3.5 3.5 3.5 3.5\n",
      "  3.5 3.5 3.5 3.5 3.5 3.5 3.5 3.5 3.5 3.5 3.5 3.5 3.5 3.5 3.5 3.5 3.5 3.5\n",
      "  3.5 3.5]\n",
      " [3.6 3.6 3.6 3.6 3.6 3.6 3.6 3.6 3.6 3.6 3.6 3.6 3.6 3.6 3.6 3.6 3.6 3.6\n",
      "  3.6 3.6 3.6 3.6 3.6 3.6 3.6 3.6 3.6 3.6 3.6 3.6 3.6 3.6 3.6 3.6 3.6 3.6\n",
      "  3.6 3.6]\n",
      " [3.7 3.7 3.7 3.7 3.7 3.7 3.7 3.7 3.7 3.7 3.7 3.7 3.7 3.7 3.7 3.7 3.7 3.7\n",
      "  3.7 3.7 3.7 3.7 3.7 3.7 3.7 3.7 3.7 3.7 3.7 3.7 3.7 3.7 3.7 3.7 3.7 3.7\n",
      "  3.7 3.7]\n",
      " [3.8 3.8 3.8 3.8 3.8 3.8 3.8 3.8 3.8 3.8 3.8 3.8 3.8 3.8 3.8 3.8 3.8 3.8\n",
      "  3.8 3.8 3.8 3.8 3.8 3.8 3.8 3.8 3.8 3.8 3.8 3.8 3.8 3.8 3.8 3.8 3.8 3.8\n",
      "  3.8 3.8]\n",
      " [3.9 3.9 3.9 3.9 3.9 3.9 3.9 3.9 3.9 3.9 3.9 3.9 3.9 3.9 3.9 3.9 3.9 3.9\n",
      "  3.9 3.9 3.9 3.9 3.9 3.9 3.9 3.9 3.9 3.9 3.9 3.9 3.9 3.9 3.9 3.9 3.9 3.9\n",
      "  3.9 3.9]\n",
      " [4.  4.  4.  4.  4.  4.  4.  4.  4.  4.  4.  4.  4.  4.  4.  4.  4.  4.\n",
      "  4.  4.  4.  4.  4.  4.  4.  4.  4.  4.  4.  4.  4.  4.  4.  4.  4.  4.\n",
      "  4.  4. ]\n",
      " [4.1 4.1 4.1 4.1 4.1 4.1 4.1 4.1 4.1 4.1 4.1 4.1 4.1 4.1 4.1 4.1 4.1 4.1\n",
      "  4.1 4.1 4.1 4.1 4.1 4.1 4.1 4.1 4.1 4.1 4.1 4.1 4.1 4.1 4.1 4.1 4.1 4.1\n",
      "  4.1 4.1]\n",
      " [4.2 4.2 4.2 4.2 4.2 4.2 4.2 4.2 4.2 4.2 4.2 4.2 4.2 4.2 4.2 4.2 4.2 4.2\n",
      "  4.2 4.2 4.2 4.2 4.2 4.2 4.2 4.2 4.2 4.2 4.2 4.2 4.2 4.2 4.2 4.2 4.2 4.2\n",
      "  4.2 4.2]\n",
      " [4.3 4.3 4.3 4.3 4.3 4.3 4.3 4.3 4.3 4.3 4.3 4.3 4.3 4.3 4.3 4.3 4.3 4.3\n",
      "  4.3 4.3 4.3 4.3 4.3 4.3 4.3 4.3 4.3 4.3 4.3 4.3 4.3 4.3 4.3 4.3 4.3 4.3\n",
      "  4.3 4.3]\n",
      " [4.4 4.4 4.4 4.4 4.4 4.4 4.4 4.4 4.4 4.4 4.4 4.4 4.4 4.4 4.4 4.4 4.4 4.4\n",
      "  4.4 4.4 4.4 4.4 4.4 4.4 4.4 4.4 4.4 4.4 4.4 4.4 4.4 4.4 4.4 4.4 4.4 4.4\n",
      "  4.4 4.4]]\n",
      "x1 mesh shape =  (26, 38)\n"
     ]
    },
    {
     "data": {
      "image/png": "[encoded data removed]",
      "text/plain": [
       "<Figure size 432x288 with 1 Axes>"
      ]
     },
     "metadata": {
      "needs_background": "light"
     },
     "output_type": "display_data"
    }
   ],
   "source": [
    "# plot the training points\n",
    "markers = [ 'o','<','s' ]\n",
    "for i in range( M_train ):\n",
    "    plt.plot( X_train[i,0], X_train[i,1], marker=markers[y_train[i]], markeredgecolor='w', markerfacecolor=colours[y_train[i]], markersize=9 )\n",
    "# and also plot the test points\n",
    "for i in range( M_test ):\n",
    "    plt.plot( X_test[i,0], X_test[i,1], marker=markers[y_test[i]], markeredgecolor='w', markerfacecolor=colours[y_test[i]], markersize=9 )\n",
    "    \n",
    "    # generate a 2D surface (mesh) that covers all possible combinations\n",
    "# of the two attribute value ranges we just initialised above so that\n",
    "# we can use it below to colour the decision boundaries.\n",
    "x0_mesh, x1_mesh = np.meshgrid( x0_range, x1_range )\n",
    "if ( DEBUGGING ):\n",
    "    print('x0 mesh = ', x0_mesh)\n",
    "    print('x0 mesh shape = ', np.shape( x0_mesh ))\n",
    "    print('x1 mesh = ', x1_mesh)\n",
    "    print('x1 mesh shape = ', np.shape( x1_mesh ))\n",
    "y_hat_mesh = y_hat_pairs.reshape( x0_mesh.shape )\n",
    "# x0_mesh and x1_mesh are the coordinates of the quadrilateral corners\n",
    "# for each cell in the colour mesh and y_hat_mesh contains the\n",
    "# corresponding class for that coordinate pair, which is used to set\n",
    "# the colour for that quadrilateral.\n",
    "# plt.pcolormesh( x0_mesh, x1_mesh, y_hat_mesh, shading='flat' )\n",
    "plt.pcolormesh( x0_mesh, x1_mesh, y_hat_mesh, shading='auto')\n",
    "\n",
    "# add labels to plot\n",
    "plt.xlabel( iris.feature_names[0] )\n",
    "plt.ylabel( iris.feature_names[1] )\n",
    "plt.xlim( x0_min, x0_max )\n",
    "plt.ylim( x1_min, x1_max )\n",
    "\n",
    "# show it!\n",
    "plt.show()"
   ]
  },
  {
   "cell_type": "code",
   "execution_count": null,
   "metadata": {},
   "outputs": [],
   "source": []
  },
  {
   "cell_type": "code",
   "execution_count": null,
   "metadata": {},
   "outputs": [],
   "source": []
  }
 ],
 "metadata": {
  "kernelspec": {
   "display_name": "Python 3",
   "language": "python",
   "name": "python3"
  },
  "language_info": {
   "codemirror_mode": {
    "name": "ipython",
    "version": 3
   },
   "file_extension": ".py",
   "mimetype": "text/x-python",
   "name": "python",
   "nbconvert_exporter": "python",
   "pygments_lexer": "ipython3",
   "version": "3.7.6"
  }
 },
 "nbformat": 4,
 "nbformat_minor": 4
}
