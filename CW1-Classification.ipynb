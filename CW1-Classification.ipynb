{
 "cells": [
  {
   "cell_type": "markdown",
   "metadata": {},
   "source": [
    "# Classification"
   ]
  },
  {
   "cell_type": "markdown",
   "metadata": {},
   "source": [
    "#### Loading and inspecting the data"
   ]
  },
  {
   "cell_type": "code",
   "execution_count": 1,
   "metadata": {},
   "outputs": [],
   "source": [
    "import pandas as pd\n",
    "from sklearn import preprocessing "
   ]
  },
  {
   "cell_type": "code",
   "execution_count": 2,
   "metadata": {},
   "outputs": [
    {
     "name": "stdout",
     "output_type": "stream",
     "text": [
      "<class 'pandas.core.frame.DataFrame'>\n",
      "RangeIndex: 48842 entries, 0 to 48841\n",
      "Data columns (total 14 columns):\n",
      " #   Column          Non-Null Count  Dtype \n",
      "---  ------          --------------  ----- \n",
      " 0   age             48842 non-null  int64 \n",
      " 1   workclass       46043 non-null  object\n",
      " 2   education       48842 non-null  object\n",
      " 3   education-num   48842 non-null  int64 \n",
      " 4   marital-status  48842 non-null  object\n",
      " 5   occupation      46033 non-null  object\n",
      " 6   relationship    48842 non-null  object\n",
      " 7   race            48842 non-null  object\n",
      " 8   sex             48842 non-null  object\n",
      " 9   capitalgain     48842 non-null  int64 \n",
      " 10  capitalloss     48842 non-null  int64 \n",
      " 11  hoursperweek    48842 non-null  int64 \n",
      " 12  native-country  47985 non-null  object\n",
      " 13  class           48842 non-null  object\n",
      "dtypes: int64(5), object(9)\n",
      "memory usage: 5.2+ MB\n"
     ]
    },
    {
     "data": {
      "text/plain": [
       "(48842, 14)"
      ]
     },
     "execution_count": 2,
     "metadata": {},
     "output_type": "execute_result"
    }
   ],
   "source": [
    "adult = pd.read_csv('adult.csv')\n",
    "adult = adult.drop(['fnlwgt'], axis=1)\n",
    "adult.info() # inspecting the data\n",
    "adult.shape"
   ]
  },
  {
   "cell_type": "markdown",
   "metadata": {},
   "source": [
    "#### 1. Create a table in the report stating the following information about the adult data set: \n",
    "(i) number of instances, (ii) number of missing values, (iii) fraction of missing values over all attribute values, (iv) number of instances with missing values and (v) fraction of instances with missing values over all instances."
   ]
  },
  {
   "cell_type": "code",
   "execution_count": 3,
   "metadata": {},
   "outputs": [
    {
     "data": {
      "text/plain": [
       "48842"
      ]
     },
     "execution_count": 3,
     "metadata": {},
     "output_type": "execute_result"
    }
   ],
   "source": [
    "# i) Number of instances:\n",
    "adult.shape[0]"
   ]
  },
  {
   "cell_type": "code",
   "execution_count": 4,
   "metadata": {},
   "outputs": [
    {
     "data": {
      "text/plain": [
       "age                  0\n",
       "workclass         2799\n",
       "education            0\n",
       "education-num        0\n",
       "marital-status       0\n",
       "occupation        2809\n",
       "relationship         0\n",
       "race                 0\n",
       "sex                  0\n",
       "capitalgain          0\n",
       "capitalloss          0\n",
       "hoursperweek         0\n",
       "native-country     857\n",
       "class                0\n",
       "dtype: int64"
      ]
     },
     "metadata": {},
     "output_type": "display_data"
    },
    {
     "data": {
      "text/plain": [
       "6465"
      ]
     },
     "metadata": {},
     "output_type": "display_data"
    }
   ],
   "source": [
    "# ii) Number of missing values\n",
    "display(adult.isnull().sum()) #missing values per column\n",
    "display(adult.isnull().sum().sum()) #total"
   ]
  },
  {
   "cell_type": "code",
   "execution_count": 5,
   "metadata": {},
   "outputs": [
    {
     "name": "stdout",
     "output_type": "stream",
     "text": [
      "0.0\n",
      "0.05730723557593874\n",
      "0.0\n",
      "0.0\n",
      "0.0\n",
      "0.05751197739650301\n",
      "0.0\n",
      "0.0\n",
      "0.0\n",
      "0.0\n",
      "0.0\n",
      "0.0\n",
      "0.017546374022357807\n",
      "0.0\n"
     ]
    }
   ],
   "source": [
    "# iii) fraction of missing values over all attributes --> Double check!!!\n",
    "adult.isnull().sum() # null values per attribute\n",
    "adult.columns # column names\n",
    "for i in range(len(adult.columns)):\n",
    "    print(adult.isnull().sum()[i]/adult.shape[0])"
   ]
  },
  {
   "cell_type": "code",
   "execution_count": 6,
   "metadata": {},
   "outputs": [
    {
     "data": {
      "text/plain": [
       "3620"
      ]
     },
     "execution_count": 6,
     "metadata": {},
     "output_type": "execute_result"
    }
   ],
   "source": [
    "# iv) number of instances with missing values\n",
    "adult.shape[0]-adult.dropna().shape[0]"
   ]
  },
  {
   "cell_type": "code",
   "execution_count": 7,
   "metadata": {},
   "outputs": [
    {
     "data": {
      "text/plain": [
       "0.07411653904426518"
      ]
     },
     "execution_count": 7,
     "metadata": {},
     "output_type": "execute_result"
    }
   ],
   "source": [
    "# v) fraction of instances with missing values over all instances\n",
    "(adult.shape[0]-adult.dropna().shape[0])/adult.shape[0]"
   ]
  },
  {
   "cell_type": "markdown",
   "metadata": {},
   "source": [
    "#### 2. Convert all 13 attributes into nominal using a Scikit-learn LabelEncoder. Then, print the set of all possible discrete values for each attribute."
   ]
  },
  {
   "cell_type": "code",
   "execution_count": 8,
   "metadata": {},
   "outputs": [
    {
     "data": {
      "text/html": [
       "<div>\n",
       "<style scoped>\n",
       "    .dataframe tbody tr th:only-of-type {\n",
       "        vertical-align: middle;\n",
       "    }\n",
       "\n",
       "    .dataframe tbody tr th {\n",
       "        vertical-align: top;\n",
       "    }\n",
       "\n",
       "    .dataframe thead th {\n",
       "        text-align: right;\n",
       "    }\n",
       "</style>\n",
       "<table border=\"1\" class=\"dataframe\">\n",
       "  <thead>\n",
       "    <tr style=\"text-align: right;\">\n",
       "      <th></th>\n",
       "      <th>age</th>\n",
       "      <th>workclass</th>\n",
       "      <th>education</th>\n",
       "      <th>education-num</th>\n",
       "      <th>marital-status</th>\n",
       "      <th>occupation</th>\n",
       "      <th>relationship</th>\n",
       "      <th>race</th>\n",
       "      <th>sex</th>\n",
       "      <th>capitalgain</th>\n",
       "      <th>capitalloss</th>\n",
       "      <th>hoursperweek</th>\n",
       "      <th>native-country</th>\n",
       "      <th>class</th>\n",
       "    </tr>\n",
       "  </thead>\n",
       "  <tbody>\n",
       "    <tr>\n",
       "      <th>0</th>\n",
       "      <td>2</td>\n",
       "      <td>6</td>\n",
       "      <td>9</td>\n",
       "      <td>12</td>\n",
       "      <td>4</td>\n",
       "      <td>0</td>\n",
       "      <td>1</td>\n",
       "      <td>4</td>\n",
       "      <td>1</td>\n",
       "      <td>1</td>\n",
       "      <td>0</td>\n",
       "      <td>2</td>\n",
       "      <td>38</td>\n",
       "      <td>0</td>\n",
       "    </tr>\n",
       "    <tr>\n",
       "      <th>1</th>\n",
       "      <td>3</td>\n",
       "      <td>5</td>\n",
       "      <td>9</td>\n",
       "      <td>12</td>\n",
       "      <td>2</td>\n",
       "      <td>3</td>\n",
       "      <td>0</td>\n",
       "      <td>4</td>\n",
       "      <td>1</td>\n",
       "      <td>0</td>\n",
       "      <td>0</td>\n",
       "      <td>0</td>\n",
       "      <td>38</td>\n",
       "      <td>0</td>\n",
       "    </tr>\n",
       "    <tr>\n",
       "      <th>2</th>\n",
       "      <td>2</td>\n",
       "      <td>3</td>\n",
       "      <td>11</td>\n",
       "      <td>8</td>\n",
       "      <td>0</td>\n",
       "      <td>5</td>\n",
       "      <td>1</td>\n",
       "      <td>4</td>\n",
       "      <td>1</td>\n",
       "      <td>0</td>\n",
       "      <td>0</td>\n",
       "      <td>2</td>\n",
       "      <td>38</td>\n",
       "      <td>0</td>\n",
       "    </tr>\n",
       "    <tr>\n",
       "      <th>3</th>\n",
       "      <td>3</td>\n",
       "      <td>3</td>\n",
       "      <td>1</td>\n",
       "      <td>6</td>\n",
       "      <td>2</td>\n",
       "      <td>5</td>\n",
       "      <td>0</td>\n",
       "      <td>2</td>\n",
       "      <td>1</td>\n",
       "      <td>0</td>\n",
       "      <td>0</td>\n",
       "      <td>2</td>\n",
       "      <td>38</td>\n",
       "      <td>0</td>\n",
       "    </tr>\n",
       "    <tr>\n",
       "      <th>4</th>\n",
       "      <td>1</td>\n",
       "      <td>3</td>\n",
       "      <td>9</td>\n",
       "      <td>12</td>\n",
       "      <td>2</td>\n",
       "      <td>9</td>\n",
       "      <td>5</td>\n",
       "      <td>2</td>\n",
       "      <td>0</td>\n",
       "      <td>0</td>\n",
       "      <td>0</td>\n",
       "      <td>2</td>\n",
       "      <td>4</td>\n",
       "      <td>0</td>\n",
       "    </tr>\n",
       "  </tbody>\n",
       "</table>\n",
       "</div>"
      ],
      "text/plain": [
       "   age  workclass  education  education-num  marital-status  occupation  \\\n",
       "0    2          6          9             12               4           0   \n",
       "1    3          5          9             12               2           3   \n",
       "2    2          3         11              8               0           5   \n",
       "3    3          3          1              6               2           5   \n",
       "4    1          3          9             12               2           9   \n",
       "\n",
       "   relationship  race  sex  capitalgain  capitalloss  hoursperweek  \\\n",
       "0             1     4    1            1            0             2   \n",
       "1             0     4    1            0            0             0   \n",
       "2             1     4    1            0            0             2   \n",
       "3             0     2    1            0            0             2   \n",
       "4             5     2    0            0            0             2   \n",
       "\n",
       "   native-country  class  \n",
       "0              38      0  \n",
       "1              38      0  \n",
       "2              38      0  \n",
       "3              38      0  \n",
       "4               4      0  "
      ]
     },
     "execution_count": 8,
     "metadata": {},
     "output_type": "execute_result"
    }
   ],
   "source": [
    "# convert all attributes to nominal\n",
    "le = preprocessing.LabelEncoder()\n",
    "df = adult.apply(le.fit_transform)\n",
    "df.head() # inspecting"
   ]
  },
  {
   "cell_type": "code",
   "execution_count": 20,
   "metadata": {
    "scrolled": true
   },
   "outputs": [
    {
     "name": "stdout",
     "output_type": "stream",
     "text": [
      "age : [2 3 1 0 4]\n",
      "workclass : [6 5 3 0 1 8 4 7 2]\n",
      "education : [ 9 11  1 12  6 15  7  8  5 10 14  4  0  3 13  2]\n",
      "education-num : [12  8  6 13  4  9 11 10  3 15 14  2  5  1  0  7]\n",
      "marital-status : [4 2 0 3 5 1 6]\n",
      "occupation : [ 0  3  5  9  7 11  2 13  4  6 12 14 10  1  8]\n",
      "relationship : [1 0 5 3 4 2]\n",
      "race : [4 2 1 0 3]\n",
      "sex : [1 0]\n",
      "capitalgain : [1 0 4 2 3]\n",
      "capitalloss : [0 3 1 2 4]\n",
      "hoursperweek : [2 0 3 4 1]\n",
      "native-country : [38  4 22 18 41 25 34 32 15  8  1 10 19 29 21 30  3  0 36  6 24 35 13 31\n",
      "  5  7  9 12  2 23 40 28 27 33 37 11 26 39 16 20 17 14]\n",
      "class : [0 1]\n"
     ]
    }
   ],
   "source": [
    "# get the list of all possible discrete values for each attribute\n",
    "column_names = df.columns.values.tolist()\n",
    "for i in column_names:\n",
    "    print(i, ':', df[i].unique())"
   ]
  },
  {
   "cell_type": "markdown",
   "metadata": {},
   "source": [
    "#### 3. Ignore any instance with missing value(s) and use Scikit-learn to build a decision tree for classifying an individual to one of the <= 50K and > 50K categories. Compute the error rate of the resulting tree."
   ]
  },
  {
   "cell_type": "code",
   "execution_count": 10,
   "metadata": {},
   "outputs": [
    {
     "data": {
      "text/html": [
       "<div>\n",
       "<style scoped>\n",
       "    .dataframe tbody tr th:only-of-type {\n",
       "        vertical-align: middle;\n",
       "    }\n",
       "\n",
       "    .dataframe tbody tr th {\n",
       "        vertical-align: top;\n",
       "    }\n",
       "\n",
       "    .dataframe thead th {\n",
       "        text-align: right;\n",
       "    }\n",
       "</style>\n",
       "<table border=\"1\" class=\"dataframe\">\n",
       "  <thead>\n",
       "    <tr style=\"text-align: right;\">\n",
       "      <th></th>\n",
       "      <th>age</th>\n",
       "      <th>workclass</th>\n",
       "      <th>education</th>\n",
       "      <th>education-num</th>\n",
       "      <th>marital-status</th>\n",
       "      <th>occupation</th>\n",
       "      <th>relationship</th>\n",
       "      <th>race</th>\n",
       "      <th>sex</th>\n",
       "      <th>capitalgain</th>\n",
       "      <th>capitalloss</th>\n",
       "      <th>hoursperweek</th>\n",
       "      <th>native-country</th>\n",
       "      <th>class</th>\n",
       "    </tr>\n",
       "  </thead>\n",
       "  <tbody>\n",
       "    <tr>\n",
       "      <th>0</th>\n",
       "      <td>2</td>\n",
       "      <td>5</td>\n",
       "      <td>9</td>\n",
       "      <td>12</td>\n",
       "      <td>4</td>\n",
       "      <td>0</td>\n",
       "      <td>1</td>\n",
       "      <td>4</td>\n",
       "      <td>1</td>\n",
       "      <td>1</td>\n",
       "      <td>0</td>\n",
       "      <td>2</td>\n",
       "      <td>38</td>\n",
       "      <td>0</td>\n",
       "    </tr>\n",
       "    <tr>\n",
       "      <th>1</th>\n",
       "      <td>3</td>\n",
       "      <td>4</td>\n",
       "      <td>9</td>\n",
       "      <td>12</td>\n",
       "      <td>2</td>\n",
       "      <td>3</td>\n",
       "      <td>0</td>\n",
       "      <td>4</td>\n",
       "      <td>1</td>\n",
       "      <td>0</td>\n",
       "      <td>0</td>\n",
       "      <td>0</td>\n",
       "      <td>38</td>\n",
       "      <td>0</td>\n",
       "    </tr>\n",
       "    <tr>\n",
       "      <th>2</th>\n",
       "      <td>2</td>\n",
       "      <td>2</td>\n",
       "      <td>11</td>\n",
       "      <td>8</td>\n",
       "      <td>0</td>\n",
       "      <td>5</td>\n",
       "      <td>1</td>\n",
       "      <td>4</td>\n",
       "      <td>1</td>\n",
       "      <td>0</td>\n",
       "      <td>0</td>\n",
       "      <td>2</td>\n",
       "      <td>38</td>\n",
       "      <td>0</td>\n",
       "    </tr>\n",
       "    <tr>\n",
       "      <th>3</th>\n",
       "      <td>3</td>\n",
       "      <td>2</td>\n",
       "      <td>1</td>\n",
       "      <td>6</td>\n",
       "      <td>2</td>\n",
       "      <td>5</td>\n",
       "      <td>0</td>\n",
       "      <td>2</td>\n",
       "      <td>1</td>\n",
       "      <td>0</td>\n",
       "      <td>0</td>\n",
       "      <td>2</td>\n",
       "      <td>38</td>\n",
       "      <td>0</td>\n",
       "    </tr>\n",
       "    <tr>\n",
       "      <th>4</th>\n",
       "      <td>1</td>\n",
       "      <td>2</td>\n",
       "      <td>9</td>\n",
       "      <td>12</td>\n",
       "      <td>2</td>\n",
       "      <td>9</td>\n",
       "      <td>5</td>\n",
       "      <td>2</td>\n",
       "      <td>0</td>\n",
       "      <td>0</td>\n",
       "      <td>0</td>\n",
       "      <td>2</td>\n",
       "      <td>4</td>\n",
       "      <td>0</td>\n",
       "    </tr>\n",
       "  </tbody>\n",
       "</table>\n",
       "</div>"
      ],
      "text/plain": [
       "   age  workclass  education  education-num  marital-status  occupation  \\\n",
       "0    2          5          9             12               4           0   \n",
       "1    3          4          9             12               2           3   \n",
       "2    2          2         11              8               0           5   \n",
       "3    3          2          1              6               2           5   \n",
       "4    1          2          9             12               2           9   \n",
       "\n",
       "   relationship  race  sex  capitalgain  capitalloss  hoursperweek  \\\n",
       "0             1     4    1            1            0             2   \n",
       "1             0     4    1            0            0             0   \n",
       "2             1     4    1            0            0             2   \n",
       "3             0     2    1            0            0             2   \n",
       "4             5     2    0            0            0             2   \n",
       "\n",
       "   native-country  class  \n",
       "0              38      0  \n",
       "1              38      0  \n",
       "2              38      0  \n",
       "3              38      0  \n",
       "4               4      0  "
      ]
     },
     "execution_count": 10,
     "metadata": {},
     "output_type": "execute_result"
    }
   ],
   "source": [
    "adult1 = adult.dropna() #dataframe without missing values \n",
    "df1 = adult1.apply(le.fit_transform)\n",
    "df1.head() # dataframe with attributes as nominal"
   ]
  },
  {
   "cell_type": "code",
   "execution_count": 11,
   "metadata": {},
   "outputs": [],
   "source": [
    "# split the data into training and test sets\n",
    "import sklearn.model_selection as model_select\n",
    "import sklearn.tree as tree\n",
    "import sklearn.metrics as metrics\n",
    "X_train, X_test, y_train, y_test = model_select.train_test_split( df1.iloc[:,:df1.shape[1]-1], df1['class'], random_state=0 )\n",
    "M_train = len( X_train )\n",
    "M_test = len( X_test )"
   ]
  },
  {
   "cell_type": "code",
   "execution_count": 12,
   "metadata": {
    "scrolled": true
   },
   "outputs": [],
   "source": [
    "# initialise the decision tree\n",
    "clf = tree.DecisionTreeClassifier( random_state = 0 )"
   ]
  },
  {
   "cell_type": "code",
   "execution_count": 13,
   "metadata": {},
   "outputs": [
    {
     "data": {
      "text/plain": [
       "DecisionTreeClassifier(random_state=0)"
      ]
     },
     "execution_count": 13,
     "metadata": {},
     "output_type": "execute_result"
    }
   ],
   "source": [
    "# fit the tree model to the training data\n",
    "clf.fit( X_train, y_train )"
   ]
  },
  {
   "cell_type": "code",
   "execution_count": 14,
   "metadata": {},
   "outputs": [],
   "source": [
    "# predict the labels for the test set\n",
    "y_hat = clf.predict( X_test )"
   ]
  },
  {
   "cell_type": "code",
   "execution_count": 15,
   "metadata": {},
   "outputs": [
    {
     "data": {
      "text/plain": [
       "0.18105430744737305"
      ]
     },
     "execution_count": 15,
     "metadata": {},
     "output_type": "execute_result"
    }
   ],
   "source": [
    "# Compute the error rate\n",
    "from sklearn.metrics import zero_one_loss\n",
    "zero_one_loss(y_test, y_hat)"
   ]
  },
  {
   "cell_type": "code",
   "execution_count": 21,
   "metadata": {},
   "outputs": [
    {
     "data": {
      "text/plain": [
       "0.18105430744737305"
      ]
     },
     "execution_count": 21,
     "metadata": {},
     "output_type": "execute_result"
    }
   ],
   "source": [
    "# alternative way for computing the error rate\n",
    "1-metrics.accuracy_score( y_test, y_hat )"
   ]
  },
  {
   "cell_type": "markdown",
   "metadata": {},
   "source": [
    "### 4. The aim of this question is to investigate two basic approaches for handling missing values. Initially, construct a smaller data set D' from the original data set D, containing (i) all instances with at least one missing value and (ii) an equal number of randomly selected instances without missing values. That is, if the number of instances with missing values is u in D, then D' should contain these u instances and additional u instances without any missing values, which are randomly selected from D. Then, using D', construct two modified data sets D'1 and D'2 to handle missing values. In particular:\n",
    "#### a)construct D'1 by creating a new value \"missing\" for each attribute and using this value for every missing value in D', \n",
    "#### b)construct D'2 by using the most popular value for all missing values of each attribute. \n",
    "\n",
    "#### Train two decision trees with these two data sets and compare their error rates using instances from D for testing. Briefly comment on the obtained results."
   ]
  },
  {
   "cell_type": "code",
   "execution_count": 17,
   "metadata": {},
   "outputs": [],
   "source": [
    "# instances with at least one missing value\n",
    "adult_NaN = adult[adult.isnull().any(axis=1)]\n",
    "# Randomly selected 3620 rows with no missing values\n",
    "adult_clean = adult.dropna().sample(adult_NaN.shape[0])\n",
    "D_prime = pd.concat([adult_NaN, adult_clean]) # dataframe D'"
   ]
  },
  {
   "cell_type": "code",
   "execution_count": 18,
   "metadata": {},
   "outputs": [
    {
     "data": {
      "text/plain": [
       "0.1486187845303868"
      ]
     },
     "execution_count": 18,
     "metadata": {},
     "output_type": "execute_result"
    }
   ],
   "source": [
    "## a) Constructing D1' dataset and train the decision tree\n",
    "\n",
    "# Filling all NaN values with 'missing'\n",
    "D1_prime = D_prime.fillna('missing')\n",
    "## Decision tree process for D1_prime ('dataset filled with \"missing\" when missing value')\n",
    "# Using label encoder\n",
    "D1_prime_le = D1_prime.apply(le.fit_transform)\n",
    "D1_prime_le.head()\n",
    "# split the data into training and test sets\n",
    "X1_train, X1_test, y1_train, y1_test = model_select.train_test_split( D1_prime_le.iloc[:,:D1_prime_le.shape[1]-1], D1_prime_le['class'], random_state=0 )\n",
    "M1_train = len( X1_train )\n",
    "M1_test = len( X1_test )\n",
    "# fit the tree model to the training data\n",
    "clf.fit( X1_train, y1_train )\n",
    "# predict the labels for the test set\n",
    "y1_hat = clf.predict( X1_test )\n",
    "# Compute the error rate\n",
    "zero_one_loss(y1_test, y1_hat)"
   ]
  },
  {
   "cell_type": "code",
   "execution_count": 19,
   "metadata": {},
   "outputs": [
    {
     "data": {
      "text/plain": [
       "0.16132596685082878"
      ]
     },
     "execution_count": 19,
     "metadata": {},
     "output_type": "execute_result"
    }
   ],
   "source": [
    "## b) Constructing D2' dataset and train the decision tree\n",
    "\n",
    "# Filling all NaN values with the most popular value ('mode')\n",
    "D2_prime = D_prime.copy()\n",
    "D2_prime_columns_with_na = D2_prime.columns[D2_prime.isnull().any()].tolist()  # get a list of columns with null values\n",
    "for column in D2_prime_columns_with_na:\n",
    "    D2_prime[column].fillna(D2_prime[column].mode()[0], inplace=True)\n",
    "## Decision tree process for D2_prime ('dataset filled with the <mode> when value was missing')\n",
    "# Using label encoder\n",
    "D2_prime_le = D2_prime.apply(le.fit_transform)\n",
    "D2_prime_le.head()\n",
    "# split the data into training and test sets\n",
    "X2_train, X2_test, y2_train, y2_test = model_select.train_test_split( D2_prime_le.iloc[:,:D2_prime_le.shape[1]-1], D2_prime_le['class'], random_state=0 )\n",
    "M2_train = len( X2_train )\n",
    "M2_test = len( X2_test )\n",
    "# fit the tree model to the training data\n",
    "clf.fit( X2_train, y2_train )\n",
    "# predict the labels for the test set\n",
    "y2_hat = clf.predict( X2_test )\n",
    "# Compute the error rate\n",
    "zero_one_loss(y2_test, y2_hat)"
   ]
  },
  {
   "cell_type": "code",
   "execution_count": null,
   "metadata": {},
   "outputs": [],
   "source": []
  },
  {
   "cell_type": "code",
   "execution_count": null,
   "metadata": {},
   "outputs": [],
   "source": []
  },
  {
   "cell_type": "code",
   "execution_count": null,
   "metadata": {},
   "outputs": [],
   "source": []
  },
  {
   "cell_type": "code",
   "execution_count": null,
   "metadata": {},
   "outputs": [],
   "source": []
  }
 ],
 "metadata": {
  "kernelspec": {
   "display_name": "Python 3",
   "language": "python",
   "name": "python3"
  },
  "language_info": {
   "codemirror_mode": {
    "name": "ipython",
    "version": 3
   },
   "file_extension": ".py",
   "mimetype": "text/x-python",
   "name": "python",
   "nbconvert_exporter": "python",
   "pygments_lexer": "ipython3",
   "version": "3.7.6"
  }
 },
 "nbformat": 4,
 "nbformat_minor": 4
}
