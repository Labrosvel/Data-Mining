{
 "cells": [
  {
   "cell_type": "code",
   "execution_count": 10,
   "metadata": {},
   "outputs": [],
   "source": [
    "import numpy as np\n",
    "import sklearn.datasets as data\n",
    "import matplotlib.pyplot as plt\n",
    "import sklearn.cluster as cluster\n",
    "import sklearn.metrics as metrics\n",
    "\n",
    "DEBUGGING = True"
   ]
  },
  {
   "cell_type": "code",
   "execution_count": 3,
   "metadata": {},
   "outputs": [],
   "source": [
    "# define markers for up to 10 clusters\n",
    "CLUSTER_MARKERS = [ 'bo', 'rv', 'c^', 'm<', 'y>', 'ks', 'bp', 'r*', 'cD', 'mP' ]"
   ]
  },
  {
   "cell_type": "code",
   "execution_count": 23,
   "metadata": {},
   "outputs": [],
   "source": [
    "#-generate synthetic data for clustering\n",
    "STD=1\n",
    "X, clusters = data.make_blobs( n_samples=1000, n_features=2, cluster_std=STD, random_state=2019 )\n",
    "# set number of instances\n",
    "M = len( X )"
   ]
  },
  {
   "cell_type": "code",
   "execution_count": 17,
   "metadata": {},
   "outputs": [
    {
     "name": "stdout",
     "output_type": "stream",
     "text": [
      "number of instances = 1000\n"
     ]
    }
   ],
   "source": [
    "#-(optionally) print some info about the data set\n",
    "if DEBUGGING:\n",
    "    print( 'number of instances = {}'.format(M))"
   ]
  },
  {
   "cell_type": "code",
   "execution_count": 24,
   "metadata": {},
   "outputs": [
    {
     "data": {
      "image/png": "[encoded data removed]",
      "text/plain": [
       "<Figure size 432x288 with 1 Axes>"
      ]
     },
     "metadata": {
      "needs_background": "light"
     },
     "output_type": "display_data"
    }
   ],
   "source": [
    "minX0 = np.min( X[:,0] )\n",
    "maxX0 = np.max( X[:,0] )\n",
    "minX1 = np.min( X[:,1] )\n",
    "maxX1 = np.max( X[:,1] )\n",
    "\n",
    "# plot the above data with differenet std's\n",
    "plt.figure()\n",
    "plt.plot(X[:,0], X[:,1], 'b.', markersize=5)\n",
    "plt.xlim((-15,15))\n",
    "plt.ylim((-15,15))\n",
    "plt.title('# of samples=1000, '+'cluster_std='+str(STD))\n",
    "plt.plot()\n",
    "# plt.savefig('myfig.png') # save figures for different std's\n",
    "plt.show()"
   ]
  }
 ],
 "metadata": {
  "kernelspec": {
   "display_name": "Python 3",
   "language": "python",
   "name": "python3"
  },
  "language_info": {
   "codemirror_mode": {
    "name": "ipython",
    "version": 3
   },
   "file_extension": ".py",
   "mimetype": "text/x-python",
   "name": "python",
   "nbconvert_exporter": "python",
   "pygments_lexer": "ipython3",
   "version": "3.7.6"
  }
 },
 "nbformat": 4,
 "nbformat_minor": 4
}
